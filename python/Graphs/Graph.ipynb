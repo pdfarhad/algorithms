{
 "cells": [
  {
   "cell_type": "code",
   "execution_count": 1,
   "metadata": {
    "collapsed": true
   },
   "outputs": [],
   "source": [
    "class Vertex:                # use a dictionary to keep track of connections to a node and their weights\n",
    "    def __init__(self, key):\n",
    "        self.id = key\n",
    "        self.connected_to = {}\n",
    "        \n",
    "    def add_neigbor(self,nbr,weight = 0):\n",
    "        self.connected_to[nbr] = weight\n",
    "        \n",
    "    def get_connections(self):\n",
    "        return self.connected_to.key()\n",
    "    \n",
    "    def get_id(self):\n",
    "        return self.id\n",
    "    \n",
    "    def get_weight(self):\n",
    "        return self.connected_to[nbr]\n",
    "    \n",
    "    def __str__(self):\n",
    "        return self.id + \" connected to \" + str([x.id for x in self.connected_to])\n",
    "        "
   ]
  },
  {
   "cell_type": "code",
   "execution_count": 2,
   "metadata": {
    "collapsed": true
   },
   "outputs": [],
   "source": [
    "class Graph:\n",
    "    \n",
    "    def __int__(self):\n",
    "        self.ver_list = {}\n",
    "        self.num_of_vertices = 0\n",
    "        \n",
    "    def add_vertex(self, key):\n",
    "        self.num_of_vertices = self.num_of_vertices + 1\n",
    "        vert = Vertex(key)\n",
    "        self.ver_list[key] = vert\n",
    "        return vert\n",
    "    \n",
    "    def get_vertex(self,key):\n",
    "        if key in ver_list:\n",
    "            return self.ver_list[key]\n",
    "        else:\n",
    "            None\n",
    "    def get_vertices(self):\n",
    "        return self.ver_list.keys()\n",
    "    \n",
    "    def add_edge(self, s, d, cost=0):\n",
    "        if s not in ver_list:\n",
    "            new_vertex = self.add_vertex(s)\n",
    "        if d not in ver_list(self):\n",
    "            new_vertex = self.add_vertex(d)\n",
    "        self.ver_list[s].add_neighbor(self.ver_list[d],cost)\n",
    "    def __contains__(self,n ):\n",
    "        return n in self.ver_list\n",
    "    \n",
    "    def __iter__(self):\n",
    "        return iter(self.ver_list.values())"
   ]
  },
  {
   "cell_type": "code",
   "execution_count": null,
   "metadata": {
    "collapsed": true
   },
   "outputs": [],
   "source": []
  }
 ],
 "metadata": {
  "kernelspec": {
   "display_name": "Python 3",
   "language": "python",
   "name": "python3"
  },
  "language_info": {
   "codemirror_mode": {
    "name": "ipython",
    "version": 3
   },
   "file_extension": ".py",
   "mimetype": "text/x-python",
   "name": "python",
   "nbconvert_exporter": "python",
   "pygments_lexer": "ipython3",
   "version": "3.6.0"
  }
 },
 "nbformat": 4,
 "nbformat_minor": 2
}

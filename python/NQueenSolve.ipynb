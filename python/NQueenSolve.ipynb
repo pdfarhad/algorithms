{
 "cells": [
  {
   "cell_type": "code",
   "execution_count": 1,
   "metadata": {
    "collapsed": true
   },
   "outputs": [],
   "source": [
    "class Position:\n",
    "    \n",
    "    def __init__(self, row, col):\n",
    "        self.row = row\n",
    "        self.col = col"
   ]
  },
  {
   "cell_type": "code",
   "execution_count": 17,
   "metadata": {
    "collapsed": false
   },
   "outputs": [],
   "source": [
    "def nQueenSolveUtil(n, row, positions):\n",
    "    if n == row:\n",
    "        return True\n",
    "    \n",
    "    for col in range(n):\n",
    "        ifSafe = True\n",
    "        for queen in range(row):\n",
    "            if positions[queen].col == col or positions[queen].row - positions[queen].col == row - col or positions[queen].row + positions[queen].col == row + col :\n",
    "                ifSafe = False\n",
    "                break\n",
    "        \n",
    "        if ifSafe:\n",
    "            positions[row] = Position(row, col)\n",
    "            if nQueenSolveUtil(n, row+1, positions):\n",
    "                return True\n",
    "            \n",
    "        \n",
    "    return False        \n",
    "            "
   ]
  },
  {
   "cell_type": "code",
   "execution_count": 18,
   "metadata": {
    "collapsed": false
   },
   "outputs": [],
   "source": [
    "def nQueenSolve(n):\n",
    "    positions = []\n",
    "    for i in range(n):\n",
    "        positions.append(Position(n,n))\n",
    "    print(positions)    \n",
    "    solution = nQueenSolveUtil(n, 0, positions)\n",
    "    if solution:\n",
    "        return positions\n",
    "    else:\n",
    "        return positions[0]"
   ]
  },
  {
   "cell_type": "code",
   "execution_count": 23,
   "metadata": {
    "collapsed": false
   },
   "outputs": [
    {
     "name": "stdout",
     "output_type": "stream",
     "text": [
      "[<__main__.Position object at 0x7fbc60df2ef0>, <__main__.Position object at 0x7fbc60df2ac8>, <__main__.Position object at 0x7fbc60df2b38>, <__main__.Position object at 0x7fbc60df2128>, <__main__.Position object at 0x7fbc60df2b00>, <__main__.Position object at 0x7fbc60df2c88>, <__main__.Position object at 0x7fbc60df2b70>, <__main__.Position object at 0x7fbc60df2080>]\n"
     ]
    }
   ],
   "source": [
    "answer = []\n",
    "answer = nQueenSolve(8)"
   ]
  },
  {
   "cell_type": "code",
   "execution_count": 24,
   "metadata": {
    "collapsed": false
   },
   "outputs": [
    {
     "name": "stdout",
     "output_type": "stream",
     "text": [
      "0 0\n",
      "\n",
      "1 4\n",
      "\n",
      "2 7\n",
      "\n",
      "3 5\n",
      "\n",
      "4 2\n",
      "\n",
      "5 6\n",
      "\n",
      "6 1\n",
      "\n",
      "7 3\n",
      "\n"
     ]
    }
   ],
   "source": [
    "\n",
    "for i in answer:\n",
    "    print(str(i.row) + \" \" + str(i.col) + \"\\n\" )"
   ]
  }
 ],
 "metadata": {
  "kernelspec": {
   "display_name": "Python 3",
   "language": "python",
   "name": "python3"
  },
  "language_info": {
   "codemirror_mode": {
    "name": "ipython",
    "version": 3
   },
   "file_extension": ".py",
   "mimetype": "text/x-python",
   "name": "python",
   "nbconvert_exporter": "python",
   "pygments_lexer": "ipython3",
   "version": "3.6.0"
  }
 },
 "nbformat": 4,
 "nbformat_minor": 2
}
